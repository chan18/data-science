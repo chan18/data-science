{
 "cells": [
  {
   "cell_type": "code",
   "execution_count": 1,
   "id": "e04a9e79-daba-4831-b410-790b20602068",
   "metadata": {},
   "outputs": [
    {
     "name": "stdout",
     "output_type": "stream",
     "text": [
      "Requirement already satisfied: kafka-python in /opt/conda/lib/python3.11/site-packages (2.0.2)\n"
     ]
    }
   ],
   "source": [
    "!pip install kafka-python"
   ]
  },
  {
   "cell_type": "code",
   "execution_count": 7,
   "id": "c0c40a7a-fb45-4700-8836-70d9a0ab8153",
   "metadata": {
    "editable": true,
    "slideshow": {
     "slide_type": ""
    },
    "tags": []
   },
   "outputs": [
    {
     "name": "stdout",
     "output_type": "stream",
     "text": [
      "b''\n",
      "b'\\x00'\n",
      "b'\\x00\\x00'\n",
      "b'\\x00\\x00\\x00'\n",
      "b'\\x00\\x00\\x00\\x00'\n",
      "b'\\x00\\x00\\x00\\x00\\x00'\n",
      "b'\\x00\\x00\\x00\\x00\\x00\\x00'\n",
      "b'\\x00\\x00\\x00\\x00\\x00\\x00\\x00'\n",
      "b'\\x00\\x00\\x00\\x00\\x00\\x00\\x00\\x00'\n",
      "b'\\x00\\x00\\x00\\x00\\x00\\x00\\x00\\x00\\x00'\n"
     ]
    },
    {
     "ename": "KeyboardInterrupt",
     "evalue": "",
     "output_type": "error",
     "traceback": [
      "\u001b[0;31m---------------------------------------------------------------------------\u001b[0m",
      "\u001b[0;31mKeyboardInterrupt\u001b[0m                         Traceback (most recent call last)",
      "Cell \u001b[0;32mIn[7], line 19\u001b[0m\n\u001b[1;32m     17\u001b[0m \u001b[38;5;28;01mexcept\u001b[39;00m \u001b[38;5;167;01mException\u001b[39;00m \u001b[38;5;28;01mas\u001b[39;00m ex:\n\u001b[1;32m     18\u001b[0m     \u001b[38;5;28mprint\u001b[39m(ex)\n\u001b[0;32m---> 19\u001b[0m sleep(\u001b[38;5;241m5\u001b[39m) \n",
      "\u001b[0;31mKeyboardInterrupt\u001b[0m: "
     ]
    }
   ],
   "source": [
    "from time import sleep  \n",
    "from json import dumps  \n",
    "from kafka import KafkaProducer \n",
    "import logging\n",
    "\n",
    "my_producer = KafkaProducer(  \n",
    "                    bootstrap_servers = ['host.docker.internal:29093']  \n",
    "              )\n",
    "\n",
    "topic_name = \"test\"\n",
    "\n",
    "for n in range(500):  \n",
    "    my_data = {'num' : n} \n",
    "    try:\n",
    "        my_producer.send(topic_name, bytes(n)).get(timeout=30)\n",
    "        print(bytes(n))\n",
    "    except Exception as ex:\n",
    "        print(ex)\n",
    "    sleep(5) \n"
   ]
  },
  {
   "cell_type": "code",
   "execution_count": null,
   "id": "f88fbdb8-da8f-47a4-8ca6-5cd2606f5d9a",
   "metadata": {},
   "outputs": [],
   "source": []
  }
 ],
 "metadata": {
  "kernelspec": {
   "display_name": "Python 3 (ipykernel)",
   "language": "python",
   "name": "python3"
  },
  "language_info": {
   "codemirror_mode": {
    "name": "ipython",
    "version": 3
   },
   "file_extension": ".py",
   "mimetype": "text/x-python",
   "name": "python",
   "nbconvert_exporter": "python",
   "pygments_lexer": "ipython3",
   "version": "3.11.6"
  }
 },
 "nbformat": 4,
 "nbformat_minor": 5
}
