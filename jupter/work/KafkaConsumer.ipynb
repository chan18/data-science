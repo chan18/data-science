{
 "cells": [
  {
   "cell_type": "code",
   "execution_count": 3,
   "id": "9d906b6a-e3dc-434d-9a71-5b1a0f82ff80",
   "metadata": {},
   "outputs": [
    {
     "name": "stdout",
     "output_type": "stream",
     "text": [
      "Requirement already satisfied: kafka-python in /opt/conda/lib/python3.11/site-packages (2.0.2)\n"
     ]
    }
   ],
   "source": [
    "!pip install kafka-python"
   ]
  },
  {
   "cell_type": "code",
   "execution_count": null,
   "id": "0dad8350-3bc4-4ec2-9227-3b99ceb13f85",
   "metadata": {},
   "outputs": [],
   "source": [
    "print(\"hello 1\")"
   ]
  },
  {
   "cell_type": "code",
   "execution_count": null,
   "id": "e4b7b0fe-1795-474d-8981-916b53f39b6c",
   "metadata": {
    "editable": true,
    "slideshow": {
     "slide_type": ""
    },
    "tags": []
   },
   "outputs": [],
   "source": [
    "from kafka import KafkaConsumer\n",
    "\n",
    "# Define server with port\n",
    "bootstrap_servers = ['host.docker.internal:29093']\n",
    "#bootstrap_servers = ['localhost:29092']\n",
    "\n",
    "# Define topic name from where the message will recieve\n",
    "topicName = 'test'\n",
    "\n",
    "# Initialize consumer variable\n",
    "consumer = KafkaConsumer(topicName , auto_offset_reset='earliest',group_id=None, bootstrap_servers = bootstrap_servers)\n",
    "\n",
    "# Read and print message from consumer\n",
    "for msg in consumer:\n",
    "    print(\"Topic Name=%s,Message=%s\"%(msg.topic,msg.value))"
   ]
  },
  {
   "cell_type": "code",
   "execution_count": null,
   "id": "c5e96679-3171-4490-927b-dac03a1ef6d8",
   "metadata": {
    "editable": true,
    "slideshow": {
     "slide_type": ""
    },
    "tags": []
   },
   "outputs": [],
   "source": [
    "KAFKA_URL = 'host.docker.internal:29093' # kafka broker\n",
    "KAFKA_TOPIC = 'test' # topic name"
   ]
  },
  {
   "cell_type": "code",
   "execution_count": null,
   "id": "a7dc80ce-e19d-4d4c-986c-dae108959fad",
   "metadata": {},
   "outputs": [],
   "source": [
    "# read from the topic\n",
    "# auto_offset_reset='earliest', # auto_offset_reset is needed when offset is not found, it's NOT what we need here\n",
    "consumer = KafkaConsumer(KAFKA_TOPIC,\n",
    "bootstrap_servers=[KAFKA_URL],\n",
    "                         auto_offset_reset='earliest',\n",
    "#max_poll_records=2,\n",
    "group_id=None\n",
    ")\n",
    "\n",
    "# (!?) wtf, why we need this to get partitions assigned\n",
    "# AssertionError: No partitions are currently assigned if poll() is not called\n",
    "#consumer.poll()\n",
    "#consumer.seek_to_beginning()\n",
    "\n",
    "# also AssertionError: No partitions are currently assigned if poll() is not called\n",
    "print('partitions of the topic: ',consumer.partitions_for_topic(KAFKA_TOPIC))\n",
    "\n",
    "from kafka import TopicPartition\n",
    "print('before poll() x2: ')\n",
    "print(consumer.position(TopicPartition(KAFKA_TOPIC, 0)))\n",
    "print(consumer.position(TopicPartition(KAFKA_TOPIC, 1)))\n",
    "\n",
    "# (!?) sometimes the first call to poll() returns nothing and doesnt change the offset\n",
    "messages = consumer.poll()\n",
    "sleep(1)\n",
    "messages = consumer.poll()\n",
    "\n",
    "print('after poll() x2: ')\n",
    "print(consumer.position(TopicPartition(KAFKA_TOPIC, 0)))\n",
    "print(consumer.position(TopicPartition(KAFKA_TOPIC, 1)))\n",
    "\n",
    "print('messages: ', messages)"
   ]
  },
  {
   "cell_type": "code",
   "execution_count": null,
   "id": "89ad0d5b-4ef3-4998-b5ae-4edf2ed8cf4f",
   "metadata": {},
   "outputs": [],
   "source": []
  }
 ],
 "metadata": {
  "kernelspec": {
   "display_name": "Python 3 (ipykernel)",
   "language": "python",
   "name": "python3"
  },
  "language_info": {
   "codemirror_mode": {
    "name": "ipython",
    "version": 3
   },
   "file_extension": ".py",
   "mimetype": "text/x-python",
   "name": "python",
   "nbconvert_exporter": "python",
   "pygments_lexer": "ipython3",
   "version": "3.11.6"
  }
 },
 "nbformat": 4,
 "nbformat_minor": 5
}
