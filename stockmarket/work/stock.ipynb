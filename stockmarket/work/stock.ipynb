{
 "cells": [
  {
   "cell_type": "code",
   "execution_count": 161,
   "id": "81b0e4b9-16dc-4a7f-af3d-0042d0cbf5d9",
   "metadata": {},
   "outputs": [],
   "source": [
    "import yfinance as yf\n",
    "import pandas as pd\n",
    "import numpy as np\n",
    "import matplotlib.pyplot as plt\n",
    "import plotly.graph_objects as go"
   ]
  },
  {
   "cell_type": "code",
   "execution_count": 162,
   "id": "700ada7f-063a-45c2-94ae-b8c67a1b0619",
   "metadata": {},
   "outputs": [
    {
     "name": "stderr",
     "output_type": "stream",
     "text": [
      "[*********************100%***********************]  1 of 1 completed\n"
     ]
    }
   ],
   "source": [
    "df = yf.download(\"MCD\", start = \"2014-07-31\", end = \"2024-08-31\")"
   ]
  },
  {
   "cell_type": "code",
   "execution_count": 163,
   "id": "e7ea18d6-1c72-420f-9001-af17b4949bc3",
   "metadata": {},
   "outputs": [
    {
     "name": "stdout",
     "output_type": "stream",
     "text": [
      "<class 'pandas.core.frame.DataFrame'>\n"
     ]
    }
   ],
   "source": [
    "print(type(df))"
   ]
  },
  {
   "cell_type": "code",
   "execution_count": 164,
   "id": "a00de1f5-ab5a-4fd7-a167-cd21cbb0964f",
   "metadata": {},
   "outputs": [
    {
     "name": "stdout",
     "output_type": "stream",
     "text": [
      "<class 'pandas.core.frame.DataFrame'>\n",
      "DatetimeIndex: 2539 entries, 2014-07-31 00:00:00+00:00 to 2024-08-30 00:00:00+00:00\n",
      "Data columns (total 6 columns):\n",
      " #   Column            Non-Null Count  Dtype  \n",
      "---  ------            --------------  -----  \n",
      " 0   (Adj Close, MCD)  2539 non-null   float64\n",
      " 1   (Close, MCD)      2539 non-null   float64\n",
      " 2   (High, MCD)       2539 non-null   float64\n",
      " 3   (Low, MCD)        2539 non-null   float64\n",
      " 4   (Open, MCD)       2539 non-null   float64\n",
      " 5   (Volume, MCD)     2539 non-null   int64  \n",
      "dtypes: float64(5), int64(1)\n",
      "memory usage: 138.9 KB\n"
     ]
    }
   ],
   "source": [
    "df.info()"
   ]
  },
  {
   "cell_type": "code",
   "execution_count": 165,
   "id": "3ef08fe6-de8d-4a48-8e6a-4b355242dead",
   "metadata": {},
   "outputs": [],
   "source": [
    "df_cleaned = df.dropna(axis=1, thresh=1)"
   ]
  },
  {
   "cell_type": "code",
   "execution_count": 166,
   "id": "8b68b0ce-b6ba-4c07-8ba4-d12d23d645c3",
   "metadata": {},
   "outputs": [
    {
     "name": "stdout",
     "output_type": "stream",
     "text": [
      "<class 'pandas.core.frame.DataFrame'>\n",
      "DatetimeIndex: 2539 entries, 2014-07-31 00:00:00+00:00 to 2024-08-30 00:00:00+00:00\n",
      "Data columns (total 6 columns):\n",
      " #   Column            Non-Null Count  Dtype  \n",
      "---  ------            --------------  -----  \n",
      " 0   (Adj Close, MCD)  2539 non-null   float64\n",
      " 1   (Close, MCD)      2539 non-null   float64\n",
      " 2   (High, MCD)       2539 non-null   float64\n",
      " 3   (Low, MCD)        2539 non-null   float64\n",
      " 4   (Open, MCD)       2539 non-null   float64\n",
      " 5   (Volume, MCD)     2539 non-null   int64  \n",
      "dtypes: float64(5), int64(1)\n",
      "memory usage: 138.9 KB\n",
      "None\n"
     ]
    }
   ],
   "source": [
    "print(df_cleaned.info())"
   ]
  },
  {
   "cell_type": "code",
   "execution_count": 167,
   "id": "78e0857d-7e19-4270-8e81-c96fc9046f38",
   "metadata": {},
   "outputs": [
    {
     "data": {
      "text/html": [
       "<div>\n",
       "<style scoped>\n",
       "    .dataframe tbody tr th:only-of-type {\n",
       "        vertical-align: middle;\n",
       "    }\n",
       "\n",
       "    .dataframe tbody tr th {\n",
       "        vertical-align: top;\n",
       "    }\n",
       "\n",
       "    .dataframe thead tr th {\n",
       "        text-align: left;\n",
       "    }\n",
       "\n",
       "    .dataframe thead tr:last-of-type th {\n",
       "        text-align: right;\n",
       "    }\n",
       "</style>\n",
       "<table border=\"1\" class=\"dataframe\">\n",
       "  <thead>\n",
       "    <tr>\n",
       "      <th>Price</th>\n",
       "      <th>Adj Close</th>\n",
       "      <th>Close</th>\n",
       "      <th>High</th>\n",
       "      <th>Low</th>\n",
       "      <th>Open</th>\n",
       "      <th>Volume</th>\n",
       "    </tr>\n",
       "    <tr>\n",
       "      <th>Ticker</th>\n",
       "      <th>MCD</th>\n",
       "      <th>MCD</th>\n",
       "      <th>MCD</th>\n",
       "      <th>MCD</th>\n",
       "      <th>MCD</th>\n",
       "      <th>MCD</th>\n",
       "    </tr>\n",
       "    <tr>\n",
       "      <th>Date</th>\n",
       "      <th></th>\n",
       "      <th></th>\n",
       "      <th></th>\n",
       "      <th></th>\n",
       "      <th></th>\n",
       "      <th></th>\n",
       "    </tr>\n",
       "  </thead>\n",
       "  <tbody>\n",
       "    <tr>\n",
       "      <th>2024-08-26 00:00:00+00:00</th>\n",
       "      <td>287.009888</td>\n",
       "      <td>288.679993</td>\n",
       "      <td>292.209991</td>\n",
       "      <td>287.869995</td>\n",
       "      <td>289.250000</td>\n",
       "      <td>2018500</td>\n",
       "    </tr>\n",
       "    <tr>\n",
       "      <th>2024-08-27 00:00:00+00:00</th>\n",
       "      <td>287.964355</td>\n",
       "      <td>289.640015</td>\n",
       "      <td>290.299988</td>\n",
       "      <td>288.059998</td>\n",
       "      <td>289.079987</td>\n",
       "      <td>2897600</td>\n",
       "    </tr>\n",
       "    <tr>\n",
       "      <th>2024-08-28 00:00:00+00:00</th>\n",
       "      <td>285.389313</td>\n",
       "      <td>287.049988</td>\n",
       "      <td>290.959991</td>\n",
       "      <td>285.260010</td>\n",
       "      <td>289.950012</td>\n",
       "      <td>2603800</td>\n",
       "    </tr>\n",
       "    <tr>\n",
       "      <th>2024-08-29 00:00:00+00:00</th>\n",
       "      <td>286.194611</td>\n",
       "      <td>287.859985</td>\n",
       "      <td>289.109985</td>\n",
       "      <td>284.779999</td>\n",
       "      <td>287.779999</td>\n",
       "      <td>1797100</td>\n",
       "    </tr>\n",
       "    <tr>\n",
       "      <th>2024-08-30 00:00:00+00:00</th>\n",
       "      <td>286.990021</td>\n",
       "      <td>288.660004</td>\n",
       "      <td>288.880005</td>\n",
       "      <td>286.290009</td>\n",
       "      <td>287.559998</td>\n",
       "      <td>2528500</td>\n",
       "    </tr>\n",
       "  </tbody>\n",
       "</table>\n",
       "</div>"
      ],
      "text/plain": [
       "Price                       Adj Close       Close        High         Low  \\\n",
       "Ticker                            MCD         MCD         MCD         MCD   \n",
       "Date                                                                        \n",
       "2024-08-26 00:00:00+00:00  287.009888  288.679993  292.209991  287.869995   \n",
       "2024-08-27 00:00:00+00:00  287.964355  289.640015  290.299988  288.059998   \n",
       "2024-08-28 00:00:00+00:00  285.389313  287.049988  290.959991  285.260010   \n",
       "2024-08-29 00:00:00+00:00  286.194611  287.859985  289.109985  284.779999   \n",
       "2024-08-30 00:00:00+00:00  286.990021  288.660004  288.880005  286.290009   \n",
       "\n",
       "Price                            Open   Volume  \n",
       "Ticker                            MCD      MCD  \n",
       "Date                                            \n",
       "2024-08-26 00:00:00+00:00  289.250000  2018500  \n",
       "2024-08-27 00:00:00+00:00  289.079987  2897600  \n",
       "2024-08-28 00:00:00+00:00  289.950012  2603800  \n",
       "2024-08-29 00:00:00+00:00  287.779999  1797100  \n",
       "2024-08-30 00:00:00+00:00  287.559998  2528500  "
      ]
     },
     "execution_count": 167,
     "metadata": {},
     "output_type": "execute_result"
    }
   ],
   "source": [
    "df.tail()"
   ]
  },
  {
   "cell_type": "code",
   "execution_count": 168,
   "id": "4367f154-4218-4f9f-8310-9d3fd67c79ca",
   "metadata": {},
   "outputs": [],
   "source": [
    "df[\"100SMA\"] = df[[\"Adj Close\"]].rolling(100).mean()"
   ]
  },
  {
   "cell_type": "code",
   "execution_count": 169,
   "id": "a59a7aef-c27e-4cbb-bb4d-a2676a671d5d",
   "metadata": {},
   "outputs": [
    {
     "data": {
      "text/html": [
       "<div>\n",
       "<style scoped>\n",
       "    .dataframe tbody tr th:only-of-type {\n",
       "        vertical-align: middle;\n",
       "    }\n",
       "\n",
       "    .dataframe tbody tr th {\n",
       "        vertical-align: top;\n",
       "    }\n",
       "\n",
       "    .dataframe thead tr th {\n",
       "        text-align: left;\n",
       "    }\n",
       "\n",
       "    .dataframe thead tr:last-of-type th {\n",
       "        text-align: right;\n",
       "    }\n",
       "</style>\n",
       "<table border=\"1\" class=\"dataframe\">\n",
       "  <thead>\n",
       "    <tr>\n",
       "      <th>Price</th>\n",
       "      <th>Adj Close</th>\n",
       "      <th>Close</th>\n",
       "      <th>High</th>\n",
       "      <th>Low</th>\n",
       "      <th>Open</th>\n",
       "      <th>Volume</th>\n",
       "      <th>100SMA</th>\n",
       "    </tr>\n",
       "    <tr>\n",
       "      <th>Ticker</th>\n",
       "      <th>MCD</th>\n",
       "      <th>MCD</th>\n",
       "      <th>MCD</th>\n",
       "      <th>MCD</th>\n",
       "      <th>MCD</th>\n",
       "      <th>MCD</th>\n",
       "      <th></th>\n",
       "    </tr>\n",
       "    <tr>\n",
       "      <th>Date</th>\n",
       "      <th></th>\n",
       "      <th></th>\n",
       "      <th></th>\n",
       "      <th></th>\n",
       "      <th></th>\n",
       "      <th></th>\n",
       "      <th></th>\n",
       "    </tr>\n",
       "  </thead>\n",
       "  <tbody>\n",
       "    <tr>\n",
       "      <th>2024-08-26 00:00:00+00:00</th>\n",
       "      <td>287.009888</td>\n",
       "      <td>288.679993</td>\n",
       "      <td>292.209991</td>\n",
       "      <td>287.869995</td>\n",
       "      <td>289.250000</td>\n",
       "      <td>2018500</td>\n",
       "      <td>262.455881</td>\n",
       "    </tr>\n",
       "    <tr>\n",
       "      <th>2024-08-27 00:00:00+00:00</th>\n",
       "      <td>287.964355</td>\n",
       "      <td>289.640015</td>\n",
       "      <td>290.299988</td>\n",
       "      <td>288.059998</td>\n",
       "      <td>289.079987</td>\n",
       "      <td>2897600</td>\n",
       "      <td>262.667572</td>\n",
       "    </tr>\n",
       "    <tr>\n",
       "      <th>2024-08-28 00:00:00+00:00</th>\n",
       "      <td>285.389313</td>\n",
       "      <td>287.049988</td>\n",
       "      <td>290.959991</td>\n",
       "      <td>285.260010</td>\n",
       "      <td>289.950012</td>\n",
       "      <td>2603800</td>\n",
       "      <td>262.887097</td>\n",
       "    </tr>\n",
       "    <tr>\n",
       "      <th>2024-08-29 00:00:00+00:00</th>\n",
       "      <td>286.194611</td>\n",
       "      <td>287.859985</td>\n",
       "      <td>289.109985</td>\n",
       "      <td>284.779999</td>\n",
       "      <td>287.779999</td>\n",
       "      <td>1797100</td>\n",
       "      <td>263.106082</td>\n",
       "    </tr>\n",
       "    <tr>\n",
       "      <th>2024-08-30 00:00:00+00:00</th>\n",
       "      <td>286.990021</td>\n",
       "      <td>288.660004</td>\n",
       "      <td>288.880005</td>\n",
       "      <td>286.290009</td>\n",
       "      <td>287.559998</td>\n",
       "      <td>2528500</td>\n",
       "      <td>263.314450</td>\n",
       "    </tr>\n",
       "  </tbody>\n",
       "</table>\n",
       "</div>"
      ],
      "text/plain": [
       "Price                       Adj Close       Close        High         Low  \\\n",
       "Ticker                            MCD         MCD         MCD         MCD   \n",
       "Date                                                                        \n",
       "2024-08-26 00:00:00+00:00  287.009888  288.679993  292.209991  287.869995   \n",
       "2024-08-27 00:00:00+00:00  287.964355  289.640015  290.299988  288.059998   \n",
       "2024-08-28 00:00:00+00:00  285.389313  287.049988  290.959991  285.260010   \n",
       "2024-08-29 00:00:00+00:00  286.194611  287.859985  289.109985  284.779999   \n",
       "2024-08-30 00:00:00+00:00  286.990021  288.660004  288.880005  286.290009   \n",
       "\n",
       "Price                            Open   Volume      100SMA  \n",
       "Ticker                            MCD      MCD              \n",
       "Date                                                        \n",
       "2024-08-26 00:00:00+00:00  289.250000  2018500  262.455881  \n",
       "2024-08-27 00:00:00+00:00  289.079987  2897600  262.667572  \n",
       "2024-08-28 00:00:00+00:00  289.950012  2603800  262.887097  \n",
       "2024-08-29 00:00:00+00:00  287.779999  1797100  263.106082  \n",
       "2024-08-30 00:00:00+00:00  287.559998  2528500  263.314450  "
      ]
     },
     "execution_count": 169,
     "metadata": {},
     "output_type": "execute_result"
    }
   ],
   "source": [
    "df.tail()"
   ]
  },
  {
   "cell_type": "code",
   "execution_count": 170,
   "id": "3da4c1c7-bd0f-40ba-bd4c-11e6a305eb32",
   "metadata": {},
   "outputs": [
    {
     "data": {
      "text/html": [
       "<div>\n",
       "<style scoped>\n",
       "    .dataframe tbody tr th:only-of-type {\n",
       "        vertical-align: middle;\n",
       "    }\n",
       "\n",
       "    .dataframe tbody tr th {\n",
       "        vertical-align: top;\n",
       "    }\n",
       "\n",
       "    .dataframe thead tr th {\n",
       "        text-align: left;\n",
       "    }\n",
       "\n",
       "    .dataframe thead tr:last-of-type th {\n",
       "        text-align: right;\n",
       "    }\n",
       "</style>\n",
       "<table border=\"1\" class=\"dataframe\">\n",
       "  <thead>\n",
       "    <tr>\n",
       "      <th>Price</th>\n",
       "      <th>Adj Close</th>\n",
       "      <th>Close</th>\n",
       "      <th>High</th>\n",
       "      <th>Low</th>\n",
       "      <th>Open</th>\n",
       "      <th>Volume</th>\n",
       "      <th>100SMA</th>\n",
       "    </tr>\n",
       "    <tr>\n",
       "      <th>Ticker</th>\n",
       "      <th>MCD</th>\n",
       "      <th>MCD</th>\n",
       "      <th>MCD</th>\n",
       "      <th>MCD</th>\n",
       "      <th>MCD</th>\n",
       "      <th>MCD</th>\n",
       "      <th></th>\n",
       "    </tr>\n",
       "    <tr>\n",
       "      <th>Date</th>\n",
       "      <th></th>\n",
       "      <th></th>\n",
       "      <th></th>\n",
       "      <th></th>\n",
       "      <th></th>\n",
       "      <th></th>\n",
       "      <th></th>\n",
       "    </tr>\n",
       "  </thead>\n",
       "  <tbody>\n",
       "    <tr>\n",
       "      <th>2014-12-18 00:00:00+00:00</th>\n",
       "      <td>73.073715</td>\n",
       "      <td>93.669998</td>\n",
       "      <td>93.739998</td>\n",
       "      <td>91.650002</td>\n",
       "      <td>92.279999</td>\n",
       "      <td>11277100</td>\n",
       "      <td>NaN</td>\n",
       "    </tr>\n",
       "    <tr>\n",
       "      <th>2014-12-19 00:00:00+00:00</th>\n",
       "      <td>72.722656</td>\n",
       "      <td>93.220001</td>\n",
       "      <td>94.320000</td>\n",
       "      <td>92.949997</td>\n",
       "      <td>93.510002</td>\n",
       "      <td>10284300</td>\n",
       "      <td>72.406379</td>\n",
       "    </tr>\n",
       "    <tr>\n",
       "      <th>2014-12-22 00:00:00+00:00</th>\n",
       "      <td>73.245331</td>\n",
       "      <td>93.889999</td>\n",
       "      <td>94.019997</td>\n",
       "      <td>93.029999</td>\n",
       "      <td>93.279999</td>\n",
       "      <td>5342200</td>\n",
       "      <td>72.413875</td>\n",
       "    </tr>\n",
       "    <tr>\n",
       "      <th>2014-12-23 00:00:00+00:00</th>\n",
       "      <td>73.502769</td>\n",
       "      <td>94.220001</td>\n",
       "      <td>94.820000</td>\n",
       "      <td>94.010002</td>\n",
       "      <td>94.360001</td>\n",
       "      <td>3590000</td>\n",
       "      <td>72.425937</td>\n",
       "    </tr>\n",
       "    <tr>\n",
       "      <th>2014-12-24 00:00:00+00:00</th>\n",
       "      <td>73.198524</td>\n",
       "      <td>93.830002</td>\n",
       "      <td>94.540001</td>\n",
       "      <td>93.739998</td>\n",
       "      <td>94.220001</td>\n",
       "      <td>1729700</td>\n",
       "      <td>72.434881</td>\n",
       "    </tr>\n",
       "    <tr>\n",
       "      <th>2014-12-26 00:00:00+00:00</th>\n",
       "      <td>73.939636</td>\n",
       "      <td>94.779999</td>\n",
       "      <td>94.930000</td>\n",
       "      <td>93.949997</td>\n",
       "      <td>94.099998</td>\n",
       "      <td>3884300</td>\n",
       "      <td>72.457982</td>\n",
       "    </tr>\n",
       "    <tr>\n",
       "      <th>2014-12-29 00:00:00+00:00</th>\n",
       "      <td>74.142479</td>\n",
       "      <td>95.040001</td>\n",
       "      <td>95.459999</td>\n",
       "      <td>94.269997</td>\n",
       "      <td>94.320000</td>\n",
       "      <td>4183200</td>\n",
       "      <td>72.482806</td>\n",
       "    </tr>\n",
       "  </tbody>\n",
       "</table>\n",
       "</div>"
      ],
      "text/plain": [
       "Price                      Adj Close      Close       High        Low  \\\n",
       "Ticker                           MCD        MCD        MCD        MCD   \n",
       "Date                                                                    \n",
       "2014-12-18 00:00:00+00:00  73.073715  93.669998  93.739998  91.650002   \n",
       "2014-12-19 00:00:00+00:00  72.722656  93.220001  94.320000  92.949997   \n",
       "2014-12-22 00:00:00+00:00  73.245331  93.889999  94.019997  93.029999   \n",
       "2014-12-23 00:00:00+00:00  73.502769  94.220001  94.820000  94.010002   \n",
       "2014-12-24 00:00:00+00:00  73.198524  93.830002  94.540001  93.739998   \n",
       "2014-12-26 00:00:00+00:00  73.939636  94.779999  94.930000  93.949997   \n",
       "2014-12-29 00:00:00+00:00  74.142479  95.040001  95.459999  94.269997   \n",
       "\n",
       "Price                           Open    Volume     100SMA  \n",
       "Ticker                           MCD       MCD             \n",
       "Date                                                       \n",
       "2014-12-18 00:00:00+00:00  92.279999  11277100        NaN  \n",
       "2014-12-19 00:00:00+00:00  93.510002  10284300  72.406379  \n",
       "2014-12-22 00:00:00+00:00  93.279999   5342200  72.413875  \n",
       "2014-12-23 00:00:00+00:00  94.360001   3590000  72.425937  \n",
       "2014-12-24 00:00:00+00:00  94.220001   1729700  72.434881  \n",
       "2014-12-26 00:00:00+00:00  94.099998   3884300  72.457982  \n",
       "2014-12-29 00:00:00+00:00  94.320000   4183200  72.482806  "
      ]
     },
     "execution_count": 170,
     "metadata": {},
     "output_type": "execute_result"
    }
   ],
   "source": [
    "df.iloc[98:105, ]"
   ]
  },
  {
   "cell_type": "code",
   "execution_count": 171,
   "id": "2579e4a0-02ef-4a8f-927c-827462bf9345",
   "metadata": {},
   "outputs": [],
   "source": [
    "df[\"200MSA\"] = df[[\"Adj Close\"]].rolling(200).mean()"
   ]
  },
  {
   "cell_type": "code",
   "execution_count": 172,
   "id": "1599073e-b58b-4d09-b6c9-fa1fa08c5395",
   "metadata": {},
   "outputs": [
    {
     "data": {
      "text/html": [
       "<div>\n",
       "<style scoped>\n",
       "    .dataframe tbody tr th:only-of-type {\n",
       "        vertical-align: middle;\n",
       "    }\n",
       "\n",
       "    .dataframe tbody tr th {\n",
       "        vertical-align: top;\n",
       "    }\n",
       "\n",
       "    .dataframe thead tr th {\n",
       "        text-align: left;\n",
       "    }\n",
       "\n",
       "    .dataframe thead tr:last-of-type th {\n",
       "        text-align: right;\n",
       "    }\n",
       "</style>\n",
       "<table border=\"1\" class=\"dataframe\">\n",
       "  <thead>\n",
       "    <tr>\n",
       "      <th>Price</th>\n",
       "      <th>Adj Close</th>\n",
       "      <th>Close</th>\n",
       "      <th>High</th>\n",
       "      <th>Low</th>\n",
       "      <th>Open</th>\n",
       "      <th>Volume</th>\n",
       "      <th>100SMA</th>\n",
       "      <th>200MSA</th>\n",
       "    </tr>\n",
       "    <tr>\n",
       "      <th>Ticker</th>\n",
       "      <th>MCD</th>\n",
       "      <th>MCD</th>\n",
       "      <th>MCD</th>\n",
       "      <th>MCD</th>\n",
       "      <th>MCD</th>\n",
       "      <th>MCD</th>\n",
       "      <th></th>\n",
       "      <th></th>\n",
       "    </tr>\n",
       "    <tr>\n",
       "      <th>Date</th>\n",
       "      <th></th>\n",
       "      <th></th>\n",
       "      <th></th>\n",
       "      <th></th>\n",
       "      <th></th>\n",
       "      <th></th>\n",
       "      <th></th>\n",
       "      <th></th>\n",
       "    </tr>\n",
       "  </thead>\n",
       "  <tbody>\n",
       "    <tr>\n",
       "      <th>2015-05-14 00:00:00+00:00</th>\n",
       "      <td>76.887802</td>\n",
       "      <td>97.709999</td>\n",
       "      <td>97.870003</td>\n",
       "      <td>97.279999</td>\n",
       "      <td>97.660004</td>\n",
       "      <td>4744000</td>\n",
       "      <td>74.798999</td>\n",
       "      <td>NaN</td>\n",
       "    </tr>\n",
       "    <tr>\n",
       "      <th>2015-05-15 00:00:00+00:00</th>\n",
       "      <td>77.147484</td>\n",
       "      <td>98.040001</td>\n",
       "      <td>99.040001</td>\n",
       "      <td>97.540001</td>\n",
       "      <td>97.739998</td>\n",
       "      <td>7607200</td>\n",
       "      <td>74.843247</td>\n",
       "      <td>73.624813</td>\n",
       "    </tr>\n",
       "    <tr>\n",
       "      <th>2015-05-18 00:00:00+00:00</th>\n",
       "      <td>77.131775</td>\n",
       "      <td>98.019997</td>\n",
       "      <td>98.250000</td>\n",
       "      <td>97.620003</td>\n",
       "      <td>97.970001</td>\n",
       "      <td>4100800</td>\n",
       "      <td>74.882112</td>\n",
       "      <td>73.647993</td>\n",
       "    </tr>\n",
       "    <tr>\n",
       "      <th>2015-05-19 00:00:00+00:00</th>\n",
       "      <td>79.224884</td>\n",
       "      <td>100.680000</td>\n",
       "      <td>101.080002</td>\n",
       "      <td>97.650002</td>\n",
       "      <td>98.089996</td>\n",
       "      <td>10809200</td>\n",
       "      <td>74.939333</td>\n",
       "      <td>73.682635</td>\n",
       "    </tr>\n",
       "    <tr>\n",
       "      <th>2015-05-20 00:00:00+00:00</th>\n",
       "      <td>78.776375</td>\n",
       "      <td>100.110001</td>\n",
       "      <td>100.980003</td>\n",
       "      <td>99.419998</td>\n",
       "      <td>100.879997</td>\n",
       "      <td>6185100</td>\n",
       "      <td>74.995111</td>\n",
       "      <td>73.714996</td>\n",
       "    </tr>\n",
       "    <tr>\n",
       "      <th>2015-05-21 00:00:00+00:00</th>\n",
       "      <td>78.123253</td>\n",
       "      <td>99.279999</td>\n",
       "      <td>99.959999</td>\n",
       "      <td>99.059998</td>\n",
       "      <td>99.889999</td>\n",
       "      <td>4729500</td>\n",
       "      <td>75.036947</td>\n",
       "      <td>73.747465</td>\n",
       "    </tr>\n",
       "    <tr>\n",
       "      <th>2015-05-22 00:00:00+00:00</th>\n",
       "      <td>77.895050</td>\n",
       "      <td>98.989998</td>\n",
       "      <td>99.480003</td>\n",
       "      <td>98.839996</td>\n",
       "      <td>99.150002</td>\n",
       "      <td>4559500</td>\n",
       "      <td>75.074473</td>\n",
       "      <td>73.778639</td>\n",
       "    </tr>\n",
       "  </tbody>\n",
       "</table>\n",
       "</div>"
      ],
      "text/plain": [
       "Price                      Adj Close       Close        High        Low  \\\n",
       "Ticker                           MCD         MCD         MCD        MCD   \n",
       "Date                                                                      \n",
       "2015-05-14 00:00:00+00:00  76.887802   97.709999   97.870003  97.279999   \n",
       "2015-05-15 00:00:00+00:00  77.147484   98.040001   99.040001  97.540001   \n",
       "2015-05-18 00:00:00+00:00  77.131775   98.019997   98.250000  97.620003   \n",
       "2015-05-19 00:00:00+00:00  79.224884  100.680000  101.080002  97.650002   \n",
       "2015-05-20 00:00:00+00:00  78.776375  100.110001  100.980003  99.419998   \n",
       "2015-05-21 00:00:00+00:00  78.123253   99.279999   99.959999  99.059998   \n",
       "2015-05-22 00:00:00+00:00  77.895050   98.989998   99.480003  98.839996   \n",
       "\n",
       "Price                            Open    Volume     100SMA     200MSA  \n",
       "Ticker                            MCD       MCD                        \n",
       "Date                                                                   \n",
       "2015-05-14 00:00:00+00:00   97.660004   4744000  74.798999        NaN  \n",
       "2015-05-15 00:00:00+00:00   97.739998   7607200  74.843247  73.624813  \n",
       "2015-05-18 00:00:00+00:00   97.970001   4100800  74.882112  73.647993  \n",
       "2015-05-19 00:00:00+00:00   98.089996  10809200  74.939333  73.682635  \n",
       "2015-05-20 00:00:00+00:00  100.879997   6185100  74.995111  73.714996  \n",
       "2015-05-21 00:00:00+00:00   99.889999   4729500  75.036947  73.747465  \n",
       "2015-05-22 00:00:00+00:00   99.150002   4559500  75.074473  73.778639  "
      ]
     },
     "execution_count": 172,
     "metadata": {},
     "output_type": "execute_result"
    }
   ],
   "source": [
    "df.iloc[198:205,]"
   ]
  },
  {
   "cell_type": "code",
   "execution_count": 173,
   "id": "4552dfe5-2b74-4755-8ec4-33bfed4ec684",
   "metadata": {},
   "outputs": [
    {
     "name": "stdout",
     "output_type": "stream",
     "text": [
      "<class 'pandas.core.frame.DataFrame'>\n",
      "DatetimeIndex: 2539 entries, 2014-07-31 00:00:00+00:00 to 2024-08-30 00:00:00+00:00\n",
      "Data columns (total 8 columns):\n",
      " #   Column            Non-Null Count  Dtype  \n",
      "---  ------            --------------  -----  \n",
      " 0   (Adj Close, MCD)  2539 non-null   float64\n",
      " 1   (Close, MCD)      2539 non-null   float64\n",
      " 2   (High, MCD)       2539 non-null   float64\n",
      " 3   (Low, MCD)        2539 non-null   float64\n",
      " 4   (Open, MCD)       2539 non-null   float64\n",
      " 5   (Volume, MCD)     2539 non-null   int64  \n",
      " 6   (100SMA, )        2440 non-null   float64\n",
      " 7   (200MSA, )        2340 non-null   float64\n",
      "dtypes: float64(7), int64(1)\n",
      "memory usage: 178.5 KB\n"
     ]
    }
   ],
   "source": [
    "df.info()"
   ]
  },
  {
   "cell_type": "code",
   "execution_count": 174,
   "id": "a74916df-5e87-48b6-81c4-91dc3f80904f",
   "metadata": {},
   "outputs": [
    {
     "data": {
      "image/png": "[encoded data removed]",
      "text/plain": [
       "<Figure size 640x480 with 1 Axes>"
      ]
     },
     "metadata": {},
     "output_type": "display_data"
    }
   ],
   "source": [
    "df.loc[df.index >= \"2019-07-31\", [\"Adj Close\", \"200MSA\", \"100SMA\"]].plot(label=(\"AdjClose\",\"100SMA\",\"200SMA\"))\n",
    "plt.title(\"MCD Stock Trends\")\n",
    "plt.ylabel(\"price\")\n",
    "plt.show()"
   ]
  },
  {
   "cell_type": "code",
   "execution_count": 175,
   "id": "d143dd03-d486-4b39-8f77-825e77ff7ef6",
   "metadata": {},
   "outputs": [
    {
     "name": "stdout",
     "output_type": "stream",
     "text": [
      "<class 'pandas.core.frame.DataFrame'>\n",
      "DatetimeIndex: 2539 entries, 2014-07-31 00:00:00+00:00 to 2024-08-30 00:00:00+00:00\n",
      "Data columns (total 8 columns):\n",
      " #   Column            Non-Null Count  Dtype  \n",
      "---  ------            --------------  -----  \n",
      " 0   (Adj Close, MCD)  2539 non-null   float64\n",
      " 1   (Close, MCD)      2539 non-null   float64\n",
      " 2   (High, MCD)       2539 non-null   float64\n",
      " 3   (Low, MCD)        2539 non-null   float64\n",
      " 4   (Open, MCD)       2539 non-null   float64\n",
      " 5   (Volume, MCD)     2539 non-null   int64  \n",
      " 6   (100SMA, )        2440 non-null   float64\n",
      " 7   (200MSA, )        2340 non-null   float64\n",
      "dtypes: float64(7), int64(1)\n",
      "memory usage: 178.5 KB\n"
     ]
    }
   ],
   "source": [
    "df.info()"
   ]
  },
  {
   "cell_type": "code",
   "execution_count": 189,
   "id": "93ed63b3-5251-4aaa-bc0c-ebbedc2335f1",
   "metadata": {},
   "outputs": [
    {
     "data": {
      "text/html": [
       "<div>\n",
       "<style scoped>\n",
       "    .dataframe tbody tr th:only-of-type {\n",
       "        vertical-align: middle;\n",
       "    }\n",
       "\n",
       "    .dataframe tbody tr th {\n",
       "        vertical-align: top;\n",
       "    }\n",
       "\n",
       "    .dataframe thead tr th {\n",
       "        text-align: left;\n",
       "    }\n",
       "\n",
       "    .dataframe thead tr:last-of-type th {\n",
       "        text-align: right;\n",
       "    }\n",
       "</style>\n",
       "<table border=\"1\" class=\"dataframe\">\n",
       "  <thead>\n",
       "    <tr>\n",
       "      <th>Price</th>\n",
       "      <th>Adj Close</th>\n",
       "      <th>Close</th>\n",
       "      <th>High</th>\n",
       "      <th>Low</th>\n",
       "      <th>Open</th>\n",
       "      <th>Volume</th>\n",
       "      <th>100SMA</th>\n",
       "      <th>200MSA</th>\n",
       "    </tr>\n",
       "    <tr>\n",
       "      <th>Ticker</th>\n",
       "      <th>MCD</th>\n",
       "      <th>MCD</th>\n",
       "      <th>MCD</th>\n",
       "      <th>MCD</th>\n",
       "      <th>MCD</th>\n",
       "      <th>MCD</th>\n",
       "      <th></th>\n",
       "      <th></th>\n",
       "    </tr>\n",
       "    <tr>\n",
       "      <th>Date</th>\n",
       "      <th></th>\n",
       "      <th></th>\n",
       "      <th></th>\n",
       "      <th></th>\n",
       "      <th></th>\n",
       "      <th></th>\n",
       "      <th></th>\n",
       "      <th></th>\n",
       "    </tr>\n",
       "  </thead>\n",
       "  <tbody>\n",
       "    <tr>\n",
       "      <th>2024-08-26 00:00:00+00:00</th>\n",
       "      <td>287.009888</td>\n",
       "      <td>288.679993</td>\n",
       "      <td>292.209991</td>\n",
       "      <td>287.869995</td>\n",
       "      <td>289.250000</td>\n",
       "      <td>2018500</td>\n",
       "      <td>262.455881</td>\n",
       "      <td>272.705376</td>\n",
       "    </tr>\n",
       "    <tr>\n",
       "      <th>2024-08-27 00:00:00+00:00</th>\n",
       "      <td>287.964355</td>\n",
       "      <td>289.640015</td>\n",
       "      <td>290.299988</td>\n",
       "      <td>288.059998</td>\n",
       "      <td>289.079987</td>\n",
       "      <td>2897600</td>\n",
       "      <td>262.667572</td>\n",
       "      <td>272.839361</td>\n",
       "    </tr>\n",
       "    <tr>\n",
       "      <th>2024-08-28 00:00:00+00:00</th>\n",
       "      <td>285.389313</td>\n",
       "      <td>287.049988</td>\n",
       "      <td>290.959991</td>\n",
       "      <td>285.260010</td>\n",
       "      <td>289.950012</td>\n",
       "      <td>2603800</td>\n",
       "      <td>262.887097</td>\n",
       "      <td>272.963303</td>\n",
       "    </tr>\n",
       "    <tr>\n",
       "      <th>2024-08-29 00:00:00+00:00</th>\n",
       "      <td>286.194611</td>\n",
       "      <td>287.859985</td>\n",
       "      <td>289.109985</td>\n",
       "      <td>284.779999</td>\n",
       "      <td>287.779999</td>\n",
       "      <td>1797100</td>\n",
       "      <td>263.106082</td>\n",
       "      <td>273.086975</td>\n",
       "    </tr>\n",
       "    <tr>\n",
       "      <th>2024-08-30 00:00:00+00:00</th>\n",
       "      <td>286.990021</td>\n",
       "      <td>288.660004</td>\n",
       "      <td>288.880005</td>\n",
       "      <td>286.290009</td>\n",
       "      <td>287.559998</td>\n",
       "      <td>2528500</td>\n",
       "      <td>263.314450</td>\n",
       "      <td>273.207741</td>\n",
       "    </tr>\n",
       "  </tbody>\n",
       "</table>\n",
       "</div>"
      ],
      "text/plain": [
       "Price                       Adj Close       Close        High         Low  \\\n",
       "Ticker                            MCD         MCD         MCD         MCD   \n",
       "Date                                                                        \n",
       "2024-08-26 00:00:00+00:00  287.009888  288.679993  292.209991  287.869995   \n",
       "2024-08-27 00:00:00+00:00  287.964355  289.640015  290.299988  288.059998   \n",
       "2024-08-28 00:00:00+00:00  285.389313  287.049988  290.959991  285.260010   \n",
       "2024-08-29 00:00:00+00:00  286.194611  287.859985  289.109985  284.779999   \n",
       "2024-08-30 00:00:00+00:00  286.990021  288.660004  288.880005  286.290009   \n",
       "\n",
       "Price                            Open   Volume      100SMA      200MSA  \n",
       "Ticker                            MCD      MCD                          \n",
       "Date                                                                    \n",
       "2024-08-26 00:00:00+00:00  289.250000  2018500  262.455881  272.705376  \n",
       "2024-08-27 00:00:00+00:00  289.079987  2897600  262.667572  272.839361  \n",
       "2024-08-28 00:00:00+00:00  289.950012  2603800  262.887097  272.963303  \n",
       "2024-08-29 00:00:00+00:00  287.779999  1797100  263.106082  273.086975  \n",
       "2024-08-30 00:00:00+00:00  287.559998  2528500  263.314450  273.207741  "
      ]
     },
     "execution_count": 189,
     "metadata": {},
     "output_type": "execute_result"
    }
   ],
   "source": [
    "df.tail()\n"
   ]
  },
  {
   "cell_type": "code",
   "execution_count": 197,
   "id": "233e14ad-aba3-46b9-9839-59ffea49be66",
   "metadata": {},
   "outputs": [
    {
     "data": {
      "text/plain": [
       "DatetimeIndex(['2014-07-31 00:00:00+00:00', '2014-08-01 00:00:00+00:00',\n",
       "               '2014-08-04 00:00:00+00:00', '2014-08-05 00:00:00+00:00',\n",
       "               '2014-08-06 00:00:00+00:00', '2014-08-07 00:00:00+00:00',\n",
       "               '2014-08-08 00:00:00+00:00', '2014-08-11 00:00:00+00:00',\n",
       "               '2014-08-12 00:00:00+00:00', '2014-08-13 00:00:00+00:00',\n",
       "               ...\n",
       "               '2024-08-19 00:00:00+00:00', '2024-08-20 00:00:00+00:00',\n",
       "               '2024-08-21 00:00:00+00:00', '2024-08-22 00:00:00+00:00',\n",
       "               '2024-08-23 00:00:00+00:00', '2024-08-26 00:00:00+00:00',\n",
       "               '2024-08-27 00:00:00+00:00', '2024-08-28 00:00:00+00:00',\n",
       "               '2024-08-29 00:00:00+00:00', '2024-08-30 00:00:00+00:00'],\n",
       "              dtype='datetime64[ns, UTC]', name='Date', length=2539, freq=None)"
      ]
     },
     "execution_count": 197,
     "metadata": {},
     "output_type": "execute_result"
    }
   ],
   "source": [
    "df.index"
   ]
  },
  {
   "cell_type": "code",
   "execution_count": 194,
   "id": "abb89c9a-30bb-43ff-9a6e-74bea1117e98",
   "metadata": {},
   "outputs": [
    {
     "data": {
      "text/plain": [
       "MultiIndex([('Adj Close', 'MCD'),\n",
       "            (    'Close', 'MCD'),\n",
       "            (     'High', 'MCD'),\n",
       "            (      'Low', 'MCD'),\n",
       "            (     'Open', 'MCD'),\n",
       "            (   'Volume', 'MCD'),\n",
       "            (   '100SMA',    ''),\n",
       "            (   '200MSA',    '')],\n",
       "           names=['Price', 'Ticker'])"
      ]
     },
     "execution_count": 194,
     "metadata": {},
     "output_type": "execute_result"
    }
   ],
   "source": [
    "df.columns"
   ]
  },
  {
   "cell_type": "code",
   "execution_count": 198,
   "id": "4414f00c-35b0-473e-91cd-b5a54a18b0fe",
   "metadata": {},
   "outputs": [
    {
     "data": {
      "application/vnd.plotly.v1+json": {
       "config": {
        "plotlyServerURL": "https://plot.ly"
       },
       "data": [
        {
         "close": [
          [
           268.45001220703125
          ],
          [
           270.05999755859375
          ],
          [
           269.3699951171875
          ],
          [
           271.19000244140625
          ],
          [
           267.9100036621094
          ],
          [
           269.4599914550781
          ],
          [
           270.30999755859375
          ],
          [
           271.1499938964844
          ],
          [
           274.8699951171875
          ],
          [
           278.489990234375
          ],
          [
           287.54998779296875
          ],
          [
           285.6300048828125
          ],
          [
           289.7099914550781
          ],
          [
           289.2099914550781
          ],
          [
           289.5199890136719
          ],
          [
           288.67999267578125
          ],
          [
           289.6400146484375
          ],
          [
           287.04998779296875
          ],
          [
           287.8599853515625
          ],
          [
           288.6600036621094
          ]
         ],
         "high": [
          [
           277.8699951171875
          ],
          [
           273.20001220703125
          ],
          [
           273.1400146484375
          ],
          [
           273.6499938964844
          ],
          [
           271.70001220703125
          ],
          [
           269.5299987792969
          ],
          [
           272
          ],
          [
           271.510009765625
          ],
          [
           275.760009765625
          ],
          [
           279.5
          ],
          [
           288.32000732421875
          ],
          [
           290.2699890136719
          ],
          [
           289.9700012207031
          ],
          [
           290.5
          ],
          [
           290.7799987792969
          ],
          [
           292.2099914550781
          ],
          [
           290.29998779296875
          ],
          [
           290.9599914550781
          ],
          [
           289.1099853515625
          ],
          [
           288.8800048828125
          ]
         ],
         "low": [
          [
           267.67999267578125
          ],
          [
           268.0799865722656
          ],
          [
           268.5799865722656
          ],
          [
           268.0799865722656
          ],
          [
           266.9599914550781
          ],
          [
           265.3299865722656
          ],
          [
           267.5400085449219
          ],
          [
           268.5
          ],
          [
           271.8500061035156
          ],
          [
           274.70001220703125
          ],
          [
           281.7200012207031
          ],
          [
           285.2099914550781
          ],
          [
           286.2699890136719
          ],
          [
           287.54998779296875
          ],
          [
           287.1300048828125
          ],
          [
           287.8699951171875
          ],
          [
           288.05999755859375
          ],
          [
           285.260009765625
          ],
          [
           284.7799987792969
          ],
          [
           286.2900085449219
          ]
         ],
         "open": [
          [
           274.0400085449219
          ],
          [
           269.8599853515625
          ],
          [
           269.55999755859375
          ],
          [
           268.92999267578125
          ],
          [
           271.70001220703125
          ],
          [
           267.4599914550781
          ],
          [
           270.30999755859375
          ],
          [
           269.8599853515625
          ],
          [
           272
          ],
          [
           274.75
          ],
          [
           282.3299865722656
          ],
          [
           286.5
          ],
          [
           287.1499938964844
          ],
          [
           289.54998779296875
          ],
          [
           290.3800048828125
          ],
          [
           289.25
          ],
          [
           289.0799865722656
          ],
          [
           289.95001220703125
          ],
          [
           287.7799987792969
          ],
          [
           287.55999755859375
          ]
         ],
         "type": "candlestick",
         "x": [
          "2024-08-05T00:00:00+00:00",
          "2024-08-06T00:00:00+00:00",
          "2024-08-07T00:00:00+00:00",
          "2024-08-08T00:00:00+00:00",
          "2024-08-09T00:00:00+00:00",
          "2024-08-12T00:00:00+00:00",
          "2024-08-13T00:00:00+00:00",
          "2024-08-14T00:00:00+00:00",
          "2024-08-15T00:00:00+00:00",
          "2024-08-16T00:00:00+00:00",
          "2024-08-19T00:00:00+00:00",
          "2024-08-20T00:00:00+00:00",
          "2024-08-21T00:00:00+00:00",
          "2024-08-22T00:00:00+00:00",
          "2024-08-23T00:00:00+00:00",
          "2024-08-26T00:00:00+00:00",
          "2024-08-27T00:00:00+00:00",
          "2024-08-28T00:00:00+00:00",
          "2024-08-29T00:00:00+00:00",
          "2024-08-30T00:00:00+00:00"
         ]
        }
       ],
       "layout": {
        "autosize": true,
        "template": {
         "data": {
          "bar": [
           {
            "error_x": {
             "color": "#2a3f5f"
            },
            "error_y": {
             "color": "#2a3f5f"
            },
            "marker": {
             "line": {
              "color": "#E5ECF6",
              "width": 0.5
             },
             "pattern": {
              "fillmode": "overlay",
              "size": 10,
              "solidity": 0.2
             }
            },
            "type": "bar"
           }
          ],
          "barpolar": [
           {
            "marker": {
             "line": {
              "color": "#E5ECF6",
              "width": 0.5
             },
             "pattern": {
              "fillmode": "overlay",
              "size": 10,
              "solidity": 0.2
             }
            },
            "type": "barpolar"
           }
          ],
          "carpet": [
           {
            "aaxis": {
             "endlinecolor": "#2a3f5f",
             "gridcolor": "white",
             "linecolor": "white",
             "minorgridcolor": "white",
             "startlinecolor": "#2a3f5f"
            },
            "baxis": {
             "endlinecolor": "#2a3f5f",
             "gridcolor": "white",
             "linecolor": "white",
             "minorgridcolor": "white",
             "startlinecolor": "#2a3f5f"
            },
            "type": "carpet"
           }
          ],
          "choropleth": [
           {
            "colorbar": {
             "outlinewidth": 0,
             "ticks": ""
            },
            "type": "choropleth"
           }
          ],
          "contour": [
           {
            "colorbar": {
             "outlinewidth": 0,
             "ticks": ""
            },
            "colorscale": [
             [
              0,
              "#0d0887"
             ],
             [
              0.1111111111111111,
              "#46039f"
             ],
             [
              0.2222222222222222,
              "#7201a8"
             ],
             [
              0.3333333333333333,
              "#9c179e"
             ],
             [
              0.4444444444444444,
              "#bd3786"
             ],
             [
              0.5555555555555556,
              "#d8576b"
             ],
             [
              0.6666666666666666,
              "#ed7953"
             ],
             [
              0.7777777777777778,
              "#fb9f3a"
             ],
             [
              0.8888888888888888,
              "#fdca26"
             ],
             [
              1,
              "#f0f921"
             ]
            ],
            "type": "contour"
           }
          ],
          "contourcarpet": [
           {
            "colorbar": {
             "outlinewidth": 0,
             "ticks": ""
            },
            "type": "contourcarpet"
           }
          ],
          "heatmap": [
           {
            "colorbar": {
             "outlinewidth": 0,
             "ticks": ""
            },
            "colorscale": [
             [
              0,
              "#0d0887"
             ],
             [
              0.1111111111111111,
              "#46039f"
             ],
             [
              0.2222222222222222,
              "#7201a8"
             ],
             [
              0.3333333333333333,
              "#9c179e"
             ],
             [
              0.4444444444444444,
              "#bd3786"
             ],
             [
              0.5555555555555556,
              "#d8576b"
             ],
             [
              0.6666666666666666,
              "#ed7953"
             ],
             [
              0.7777777777777778,
              "#fb9f3a"
             ],
             [
              0.8888888888888888,
              "#fdca26"
             ],
             [
              1,
              "#f0f921"
             ]
            ],
            "type": "heatmap"
           }
          ],
          "heatmapgl": [
           {
            "colorbar": {
             "outlinewidth": 0,
             "ticks": ""
            },
            "colorscale": [
             [
              0,
              "#0d0887"
             ],
             [
              0.1111111111111111,
              "#46039f"
             ],
             [
              0.2222222222222222,
              "#7201a8"
             ],
             [
              0.3333333333333333,
              "#9c179e"
             ],
             [
              0.4444444444444444,
              "#bd3786"
             ],
             [
              0.5555555555555556,
              "#d8576b"
             ],
             [
              0.6666666666666666,
              "#ed7953"
             ],
             [
              0.7777777777777778,
              "#fb9f3a"
             ],
             [
              0.8888888888888888,
              "#fdca26"
             ],
             [
              1,
              "#f0f921"
             ]
            ],
            "type": "heatmapgl"
           }
          ],
          "histogram": [
           {
            "marker": {
             "pattern": {
              "fillmode": "overlay",
              "size": 10,
              "solidity": 0.2
             }
            },
            "type": "histogram"
           }
          ],
          "histogram2d": [
           {
            "colorbar": {
             "outlinewidth": 0,
             "ticks": ""
            },
            "colorscale": [
             [
              0,
              "#0d0887"
             ],
             [
              0.1111111111111111,
              "#46039f"
             ],
             [
              0.2222222222222222,
              "#7201a8"
             ],
             [
              0.3333333333333333,
              "#9c179e"
             ],
             [
              0.4444444444444444,
              "#bd3786"
             ],
             [
              0.5555555555555556,
              "#d8576b"
             ],
             [
              0.6666666666666666,
              "#ed7953"
             ],
             [
              0.7777777777777778,
              "#fb9f3a"
             ],
             [
              0.8888888888888888,
              "#fdca26"
             ],
             [
              1,
              "#f0f921"
             ]
            ],
            "type": "histogram2d"
           }
          ],
          "histogram2dcontour": [
           {
            "colorbar": {
             "outlinewidth": 0,
             "ticks": ""
            },
            "colorscale": [
             [
              0,
              "#0d0887"
             ],
             [
              0.1111111111111111,
              "#46039f"
             ],
             [
              0.2222222222222222,
              "#7201a8"
             ],
             [
              0.3333333333333333,
              "#9c179e"
             ],
             [
              0.4444444444444444,
              "#bd3786"
             ],
             [
              0.5555555555555556,
              "#d8576b"
             ],
             [
              0.6666666666666666,
              "#ed7953"
             ],
             [
              0.7777777777777778,
              "#fb9f3a"
             ],
             [
              0.8888888888888888,
              "#fdca26"
             ],
             [
              1,
              "#f0f921"
             ]
            ],
            "type": "histogram2dcontour"
           }
          ],
          "mesh3d": [
           {
            "colorbar": {
             "outlinewidth": 0,
             "ticks": ""
            },
            "type": "mesh3d"
           }
          ],
          "parcoords": [
           {
            "line": {
             "colorbar": {
              "outlinewidth": 0,
              "ticks": ""
             }
            },
            "type": "parcoords"
           }
          ],
          "pie": [
           {
            "automargin": true,
            "type": "pie"
           }
          ],
          "scatter": [
           {
            "fillpattern": {
             "fillmode": "overlay",
             "size": 10,
             "solidity": 0.2
            },
            "type": "scatter"
           }
          ],
          "scatter3d": [
           {
            "line": {
             "colorbar": {
              "outlinewidth": 0,
              "ticks": ""
             }
            },
            "marker": {
             "colorbar": {
              "outlinewidth": 0,
              "ticks": ""
             }
            },
            "type": "scatter3d"
           }
          ],
          "scattercarpet": [
           {
            "marker": {
             "colorbar": {
              "outlinewidth": 0,
              "ticks": ""
             }
            },
            "type": "scattercarpet"
           }
          ],
          "scattergeo": [
           {
            "marker": {
             "colorbar": {
              "outlinewidth": 0,
              "ticks": ""
             }
            },
            "type": "scattergeo"
           }
          ],
          "scattergl": [
           {
            "marker": {
             "colorbar": {
              "outlinewidth": 0,
              "ticks": ""
             }
            },
            "type": "scattergl"
           }
          ],
          "scattermapbox": [
           {
            "marker": {
             "colorbar": {
              "outlinewidth": 0,
              "ticks": ""
             }
            },
            "type": "scattermapbox"
           }
          ],
          "scatterpolar": [
           {
            "marker": {
             "colorbar": {
              "outlinewidth": 0,
              "ticks": ""
             }
            },
            "type": "scatterpolar"
           }
          ],
          "scatterpolargl": [
           {
            "marker": {
             "colorbar": {
              "outlinewidth": 0,
              "ticks": ""
             }
            },
            "type": "scatterpolargl"
           }
          ],
          "scatterternary": [
           {
            "marker": {
             "colorbar": {
              "outlinewidth": 0,
              "ticks": ""
             }
            },
            "type": "scatterternary"
           }
          ],
          "surface": [
           {
            "colorbar": {
             "outlinewidth": 0,
             "ticks": ""
            },
            "colorscale": [
             [
              0,
              "#0d0887"
             ],
             [
              0.1111111111111111,
              "#46039f"
             ],
             [
              0.2222222222222222,
              "#7201a8"
             ],
             [
              0.3333333333333333,
              "#9c179e"
             ],
             [
              0.4444444444444444,
              "#bd3786"
             ],
             [
              0.5555555555555556,
              "#d8576b"
             ],
             [
              0.6666666666666666,
              "#ed7953"
             ],
             [
              0.7777777777777778,
              "#fb9f3a"
             ],
             [
              0.8888888888888888,
              "#fdca26"
             ],
             [
              1,
              "#f0f921"
             ]
            ],
            "type": "surface"
           }
          ],
          "table": [
           {
            "cells": {
             "fill": {
              "color": "#EBF0F8"
             },
             "line": {
              "color": "white"
             }
            },
            "header": {
             "fill": {
              "color": "#C8D4E3"
             },
             "line": {
              "color": "white"
             }
            },
            "type": "table"
           }
          ]
         },
         "layout": {
          "annotationdefaults": {
           "arrowcolor": "#2a3f5f",
           "arrowhead": 0,
           "arrowwidth": 1
          },
          "autotypenumbers": "strict",
          "coloraxis": {
           "colorbar": {
            "outlinewidth": 0,
            "ticks": ""
           }
          },
          "colorscale": {
           "diverging": [
            [
             0,
             "#8e0152"
            ],
            [
             0.1,
             "#c51b7d"
            ],
            [
             0.2,
             "#de77ae"
            ],
            [
             0.3,
             "#f1b6da"
            ],
            [
             0.4,
             "#fde0ef"
            ],
            [
             0.5,
             "#f7f7f7"
            ],
            [
             0.6,
             "#e6f5d0"
            ],
            [
             0.7,
             "#b8e186"
            ],
            [
             0.8,
             "#7fbc41"
            ],
            [
             0.9,
             "#4d9221"
            ],
            [
             1,
             "#276419"
            ]
           ],
           "sequential": [
            [
             0,
             "#0d0887"
            ],
            [
             0.1111111111111111,
             "#46039f"
            ],
            [
             0.2222222222222222,
             "#7201a8"
            ],
            [
             0.3333333333333333,
             "#9c179e"
            ],
            [
             0.4444444444444444,
             "#bd3786"
            ],
            [
             0.5555555555555556,
             "#d8576b"
            ],
            [
             0.6666666666666666,
             "#ed7953"
            ],
            [
             0.7777777777777778,
             "#fb9f3a"
            ],
            [
             0.8888888888888888,
             "#fdca26"
            ],
            [
             1,
             "#f0f921"
            ]
           ],
           "sequentialminus": [
            [
             0,
             "#0d0887"
            ],
            [
             0.1111111111111111,
             "#46039f"
            ],
            [
             0.2222222222222222,
             "#7201a8"
            ],
            [
             0.3333333333333333,
             "#9c179e"
            ],
            [
             0.4444444444444444,
             "#bd3786"
            ],
            [
             0.5555555555555556,
             "#d8576b"
            ],
            [
             0.6666666666666666,
             "#ed7953"
            ],
            [
             0.7777777777777778,
             "#fb9f3a"
            ],
            [
             0.8888888888888888,
             "#fdca26"
            ],
            [
             1,
             "#f0f921"
            ]
           ]
          },
          "colorway": [
           "#636efa",
           "#EF553B",
           "#00cc96",
           "#ab63fa",
           "#FFA15A",
           "#19d3f3",
           "#FF6692",
           "#B6E880",
           "#FF97FF",
           "#FECB52"
          ],
          "font": {
           "color": "#2a3f5f"
          },
          "geo": {
           "bgcolor": "white",
           "lakecolor": "white",
           "landcolor": "#E5ECF6",
           "showlakes": true,
           "showland": true,
           "subunitcolor": "white"
          },
          "hoverlabel": {
           "align": "left"
          },
          "hovermode": "closest",
          "mapbox": {
           "style": "light"
          },
          "paper_bgcolor": "white",
          "plot_bgcolor": "#E5ECF6",
          "polar": {
           "angularaxis": {
            "gridcolor": "white",
            "linecolor": "white",
            "ticks": ""
           },
           "bgcolor": "#E5ECF6",
           "radialaxis": {
            "gridcolor": "white",
            "linecolor": "white",
            "ticks": ""
           }
          },
          "scene": {
           "xaxis": {
            "backgroundcolor": "#E5ECF6",
            "gridcolor": "white",
            "gridwidth": 2,
            "linecolor": "white",
            "showbackground": true,
            "ticks": "",
            "zerolinecolor": "white"
           },
           "yaxis": {
            "backgroundcolor": "#E5ECF6",
            "gridcolor": "white",
            "gridwidth": 2,
            "linecolor": "white",
            "showbackground": true,
            "ticks": "",
            "zerolinecolor": "white"
           },
           "zaxis": {
            "backgroundcolor": "#E5ECF6",
            "gridcolor": "white",
            "gridwidth": 2,
            "linecolor": "white",
            "showbackground": true,
            "ticks": "",
            "zerolinecolor": "white"
           }
          },
          "shapedefaults": {
           "line": {
            "color": "#2a3f5f"
           }
          },
          "ternary": {
           "aaxis": {
            "gridcolor": "white",
            "linecolor": "white",
            "ticks": ""
           },
           "baxis": {
            "gridcolor": "white",
            "linecolor": "white",
            "ticks": ""
           },
           "bgcolor": "#E5ECF6",
           "caxis": {
            "gridcolor": "white",
            "linecolor": "white",
            "ticks": ""
           }
          },
          "title": {
           "x": 0.05
          },
          "xaxis": {
           "automargin": true,
           "gridcolor": "white",
           "linecolor": "white",
           "ticks": "",
           "title": {
            "standoff": 15
           },
           "zerolinecolor": "white",
           "zerolinewidth": 2
          },
          "yaxis": {
           "automargin": true,
           "gridcolor": "white",
           "linecolor": "white",
           "ticks": "",
           "title": {
            "standoff": 15
           },
           "zerolinecolor": "white",
           "zerolinewidth": 2
          }
         }
        },
        "title": {
         "text": "MCD Trend"
        },
        "xaxis": {
         "autorange": true,
         "range": [
          "2024-08-04 12:00",
          "2024-08-30 12:00"
         ],
         "rangeslider": {
          "autorange": true,
          "range": [
           "2024-08-04 12:00",
           "2024-08-30 12:00"
          ],
          "visible": true,
          "yaxis": {
           "_template": null,
           "rangemode": "match"
          }
         },
         "type": "date"
        },
        "yaxis": {
         "autorange": true,
         "range": [
          -1,
          4
         ],
         "title": {
          "text": "Price"
         }
        }
       }
      },
      "image/png": "[encoded data removed]",
      "text/html": [
       "<div>                            <div id=\"0a8070df-46dc-45ec-819a-e4523a008732\" class=\"plotly-graph-div\" style=\"height:525px; width:100%;\"></div>            <script type=\"text/javascript\">                require([\"plotly\"], function(Plotly) {                    window.PLOTLYENV=window.PLOTLYENV || {};                                    if (document.getElementById(\"0a8070df-46dc-45ec-819a-e4523a008732\")) {                    Plotly.newPlot(                        \"0a8070df-46dc-45ec-819a-e4523a008732\",                        [{\"close\":[[268.45001220703125],[270.05999755859375],[269.3699951171875],[271.19000244140625],[267.9100036621094],[269.4599914550781],[270.30999755859375],[271.1499938964844],[274.8699951171875],[278.489990234375],[287.54998779296875],[285.6300048828125],[289.7099914550781],[289.2099914550781],[289.5199890136719],[288.67999267578125],[289.6400146484375],[287.04998779296875],[287.8599853515625],[288.6600036621094]],\"high\":[[277.8699951171875],[273.20001220703125],[273.1400146484375],[273.6499938964844],[271.70001220703125],[269.5299987792969],[272.0],[271.510009765625],[275.760009765625],[279.5],[288.32000732421875],[290.2699890136719],[289.9700012207031],[290.5],[290.7799987792969],[292.2099914550781],[290.29998779296875],[290.9599914550781],[289.1099853515625],[288.8800048828125]],\"low\":[[267.67999267578125],[268.0799865722656],[268.5799865722656],[268.0799865722656],[266.9599914550781],[265.3299865722656],[267.5400085449219],[268.5],[271.8500061035156],[274.70001220703125],[281.7200012207031],[285.2099914550781],[286.2699890136719],[287.54998779296875],[287.1300048828125],[287.8699951171875],[288.05999755859375],[285.260009765625],[284.7799987792969],[286.2900085449219]],\"open\":[[274.0400085449219],[269.8599853515625],[269.55999755859375],[268.92999267578125],[271.70001220703125],[267.4599914550781],[270.30999755859375],[269.8599853515625],[272.0],[274.75],[282.3299865722656],[286.5],[287.1499938964844],[289.54998779296875],[290.3800048828125],[289.25],[289.0799865722656],[289.95001220703125],[287.7799987792969],[287.55999755859375]],\"x\":[\"2024-08-05T00:00:00+00:00\",\"2024-08-06T00:00:00+00:00\",\"2024-08-07T00:00:00+00:00\",\"2024-08-08T00:00:00+00:00\",\"2024-08-09T00:00:00+00:00\",\"2024-08-12T00:00:00+00:00\",\"2024-08-13T00:00:00+00:00\",\"2024-08-14T00:00:00+00:00\",\"2024-08-15T00:00:00+00:00\",\"2024-08-16T00:00:00+00:00\",\"2024-08-19T00:00:00+00:00\",\"2024-08-20T00:00:00+00:00\",\"2024-08-21T00:00:00+00:00\",\"2024-08-22T00:00:00+00:00\",\"2024-08-23T00:00:00+00:00\",\"2024-08-26T00:00:00+00:00\",\"2024-08-27T00:00:00+00:00\",\"2024-08-28T00:00:00+00:00\",\"2024-08-29T00:00:00+00:00\",\"2024-08-30T00:00:00+00:00\"],\"type\":\"candlestick\"}],                        {\"template\":{\"data\":{\"histogram2dcontour\":[{\"type\":\"histogram2dcontour\",\"colorbar\":{\"outlinewidth\":0,\"ticks\":\"\"},\"colorscale\":[[0.0,\"#0d0887\"],[0.1111111111111111,\"#46039f\"],[0.2222222222222222,\"#7201a8\"],[0.3333333333333333,\"#9c179e\"],[0.4444444444444444,\"#bd3786\"],[0.5555555555555556,\"#d8576b\"],[0.6666666666666666,\"#ed7953\"],[0.7777777777777778,\"#fb9f3a\"],[0.8888888888888888,\"#fdca26\"],[1.0,\"#f0f921\"]]}],\"choropleth\":[{\"type\":\"choropleth\",\"colorbar\":{\"outlinewidth\":0,\"ticks\":\"\"}}],\"histogram2d\":[{\"type\":\"histogram2d\",\"colorbar\":{\"outlinewidth\":0,\"ticks\":\"\"},\"colorscale\":[[0.0,\"#0d0887\"],[0.1111111111111111,\"#46039f\"],[0.2222222222222222,\"#7201a8\"],[0.3333333333333333,\"#9c179e\"],[0.4444444444444444,\"#bd3786\"],[0.5555555555555556,\"#d8576b\"],[0.6666666666666666,\"#ed7953\"],[0.7777777777777778,\"#fb9f3a\"],[0.8888888888888888,\"#fdca26\"],[1.0,\"#f0f921\"]]}],\"heatmap\":[{\"type\":\"heatmap\",\"colorbar\":{\"outlinewidth\":0,\"ticks\":\"\"},\"colorscale\":[[0.0,\"#0d0887\"],[0.1111111111111111,\"#46039f\"],[0.2222222222222222,\"#7201a8\"],[0.3333333333333333,\"#9c179e\"],[0.4444444444444444,\"#bd3786\"],[0.5555555555555556,\"#d8576b\"],[0.6666666666666666,\"#ed7953\"],[0.7777777777777778,\"#fb9f3a\"],[0.8888888888888888,\"#fdca26\"],[1.0,\"#f0f921\"]]}],\"heatmapgl\":[{\"type\":\"heatmapgl\",\"colorbar\":{\"outlinewidth\":0,\"ticks\":\"\"},\"colorscale\":[[0.0,\"#0d0887\"],[0.1111111111111111,\"#46039f\"],[0.2222222222222222,\"#7201a8\"],[0.3333333333333333,\"#9c179e\"],[0.4444444444444444,\"#bd3786\"],[0.5555555555555556,\"#d8576b\"],[0.6666666666666666,\"#ed7953\"],[0.7777777777777778,\"#fb9f3a\"],[0.8888888888888888,\"#fdca26\"],[1.0,\"#f0f921\"]]}],\"contourcarpet\":[{\"type\":\"contourcarpet\",\"colorbar\":{\"outlinewidth\":0,\"ticks\":\"\"}}],\"contour\":[{\"type\":\"contour\",\"colorbar\":{\"outlinewidth\":0,\"ticks\":\"\"},\"colorscale\":[[0.0,\"#0d0887\"],[0.1111111111111111,\"#46039f\"],[0.2222222222222222,\"#7201a8\"],[0.3333333333333333,\"#9c179e\"],[0.4444444444444444,\"#bd3786\"],[0.5555555555555556,\"#d8576b\"],[0.6666666666666666,\"#ed7953\"],[0.7777777777777778,\"#fb9f3a\"],[0.8888888888888888,\"#fdca26\"],[1.0,\"#f0f921\"]]}],\"surface\":[{\"type\":\"surface\",\"colorbar\":{\"outlinewidth\":0,\"ticks\":\"\"},\"colorscale\":[[0.0,\"#0d0887\"],[0.1111111111111111,\"#46039f\"],[0.2222222222222222,\"#7201a8\"],[0.3333333333333333,\"#9c179e\"],[0.4444444444444444,\"#bd3786\"],[0.5555555555555556,\"#d8576b\"],[0.6666666666666666,\"#ed7953\"],[0.7777777777777778,\"#fb9f3a\"],[0.8888888888888888,\"#fdca26\"],[1.0,\"#f0f921\"]]}],\"mesh3d\":[{\"type\":\"mesh3d\",\"colorbar\":{\"outlinewidth\":0,\"ticks\":\"\"}}],\"scatter\":[{\"fillpattern\":{\"fillmode\":\"overlay\",\"size\":10,\"solidity\":0.2},\"type\":\"scatter\"}],\"parcoords\":[{\"type\":\"parcoords\",\"line\":{\"colorbar\":{\"outlinewidth\":0,\"ticks\":\"\"}}}],\"scatterpolargl\":[{\"type\":\"scatterpolargl\",\"marker\":{\"colorbar\":{\"outlinewidth\":0,\"ticks\":\"\"}}}],\"bar\":[{\"error_x\":{\"color\":\"#2a3f5f\"},\"error_y\":{\"color\":\"#2a3f5f\"},\"marker\":{\"line\":{\"color\":\"#E5ECF6\",\"width\":0.5},\"pattern\":{\"fillmode\":\"overlay\",\"size\":10,\"solidity\":0.2}},\"type\":\"bar\"}],\"scattergeo\":[{\"type\":\"scattergeo\",\"marker\":{\"colorbar\":{\"outlinewidth\":0,\"ticks\":\"\"}}}],\"scatterpolar\":[{\"type\":\"scatterpolar\",\"marker\":{\"colorbar\":{\"outlinewidth\":0,\"ticks\":\"\"}}}],\"histogram\":[{\"marker\":{\"pattern\":{\"fillmode\":\"overlay\",\"size\":10,\"solidity\":0.2}},\"type\":\"histogram\"}],\"scattergl\":[{\"type\":\"scattergl\",\"marker\":{\"colorbar\":{\"outlinewidth\":0,\"ticks\":\"\"}}}],\"scatter3d\":[{\"type\":\"scatter3d\",\"line\":{\"colorbar\":{\"outlinewidth\":0,\"ticks\":\"\"}},\"marker\":{\"colorbar\":{\"outlinewidth\":0,\"ticks\":\"\"}}}],\"scattermapbox\":[{\"type\":\"scattermapbox\",\"marker\":{\"colorbar\":{\"outlinewidth\":0,\"ticks\":\"\"}}}],\"scatterternary\":[{\"type\":\"scatterternary\",\"marker\":{\"colorbar\":{\"outlinewidth\":0,\"ticks\":\"\"}}}],\"scattercarpet\":[{\"type\":\"scattercarpet\",\"marker\":{\"colorbar\":{\"outlinewidth\":0,\"ticks\":\"\"}}}],\"carpet\":[{\"aaxis\":{\"endlinecolor\":\"#2a3f5f\",\"gridcolor\":\"white\",\"linecolor\":\"white\",\"minorgridcolor\":\"white\",\"startlinecolor\":\"#2a3f5f\"},\"baxis\":{\"endlinecolor\":\"#2a3f5f\",\"gridcolor\":\"white\",\"linecolor\":\"white\",\"minorgridcolor\":\"white\",\"startlinecolor\":\"#2a3f5f\"},\"type\":\"carpet\"}],\"table\":[{\"cells\":{\"fill\":{\"color\":\"#EBF0F8\"},\"line\":{\"color\":\"white\"}},\"header\":{\"fill\":{\"color\":\"#C8D4E3\"},\"line\":{\"color\":\"white\"}},\"type\":\"table\"}],\"barpolar\":[{\"marker\":{\"line\":{\"color\":\"#E5ECF6\",\"width\":0.5},\"pattern\":{\"fillmode\":\"overlay\",\"size\":10,\"solidity\":0.2}},\"type\":\"barpolar\"}],\"pie\":[{\"automargin\":true,\"type\":\"pie\"}]},\"layout\":{\"autotypenumbers\":\"strict\",\"colorway\":[\"#636efa\",\"#EF553B\",\"#00cc96\",\"#ab63fa\",\"#FFA15A\",\"#19d3f3\",\"#FF6692\",\"#B6E880\",\"#FF97FF\",\"#FECB52\"],\"font\":{\"color\":\"#2a3f5f\"},\"hovermode\":\"closest\",\"hoverlabel\":{\"align\":\"left\"},\"paper_bgcolor\":\"white\",\"plot_bgcolor\":\"#E5ECF6\",\"polar\":{\"bgcolor\":\"#E5ECF6\",\"angularaxis\":{\"gridcolor\":\"white\",\"linecolor\":\"white\",\"ticks\":\"\"},\"radialaxis\":{\"gridcolor\":\"white\",\"linecolor\":\"white\",\"ticks\":\"\"}},\"ternary\":{\"bgcolor\":\"#E5ECF6\",\"aaxis\":{\"gridcolor\":\"white\",\"linecolor\":\"white\",\"ticks\":\"\"},\"baxis\":{\"gridcolor\":\"white\",\"linecolor\":\"white\",\"ticks\":\"\"},\"caxis\":{\"gridcolor\":\"white\",\"linecolor\":\"white\",\"ticks\":\"\"}},\"coloraxis\":{\"colorbar\":{\"outlinewidth\":0,\"ticks\":\"\"}},\"colorscale\":{\"sequential\":[[0.0,\"#0d0887\"],[0.1111111111111111,\"#46039f\"],[0.2222222222222222,\"#7201a8\"],[0.3333333333333333,\"#9c179e\"],[0.4444444444444444,\"#bd3786\"],[0.5555555555555556,\"#d8576b\"],[0.6666666666666666,\"#ed7953\"],[0.7777777777777778,\"#fb9f3a\"],[0.8888888888888888,\"#fdca26\"],[1.0,\"#f0f921\"]],\"sequentialminus\":[[0.0,\"#0d0887\"],[0.1111111111111111,\"#46039f\"],[0.2222222222222222,\"#7201a8\"],[0.3333333333333333,\"#9c179e\"],[0.4444444444444444,\"#bd3786\"],[0.5555555555555556,\"#d8576b\"],[0.6666666666666666,\"#ed7953\"],[0.7777777777777778,\"#fb9f3a\"],[0.8888888888888888,\"#fdca26\"],[1.0,\"#f0f921\"]],\"diverging\":[[0,\"#8e0152\"],[0.1,\"#c51b7d\"],[0.2,\"#de77ae\"],[0.3,\"#f1b6da\"],[0.4,\"#fde0ef\"],[0.5,\"#f7f7f7\"],[0.6,\"#e6f5d0\"],[0.7,\"#b8e186\"],[0.8,\"#7fbc41\"],[0.9,\"#4d9221\"],[1,\"#276419\"]]},\"xaxis\":{\"gridcolor\":\"white\",\"linecolor\":\"white\",\"ticks\":\"\",\"title\":{\"standoff\":15},\"zerolinecolor\":\"white\",\"automargin\":true,\"zerolinewidth\":2},\"yaxis\":{\"gridcolor\":\"white\",\"linecolor\":\"white\",\"ticks\":\"\",\"title\":{\"standoff\":15},\"zerolinecolor\":\"white\",\"automargin\":true,\"zerolinewidth\":2},\"scene\":{\"xaxis\":{\"backgroundcolor\":\"#E5ECF6\",\"gridcolor\":\"white\",\"linecolor\":\"white\",\"showbackground\":true,\"ticks\":\"\",\"zerolinecolor\":\"white\",\"gridwidth\":2},\"yaxis\":{\"backgroundcolor\":\"#E5ECF6\",\"gridcolor\":\"white\",\"linecolor\":\"white\",\"showbackground\":true,\"ticks\":\"\",\"zerolinecolor\":\"white\",\"gridwidth\":2},\"zaxis\":{\"backgroundcolor\":\"#E5ECF6\",\"gridcolor\":\"white\",\"linecolor\":\"white\",\"showbackground\":true,\"ticks\":\"\",\"zerolinecolor\":\"white\",\"gridwidth\":2}},\"shapedefaults\":{\"line\":{\"color\":\"#2a3f5f\"}},\"annotationdefaults\":{\"arrowcolor\":\"#2a3f5f\",\"arrowhead\":0,\"arrowwidth\":1},\"geo\":{\"bgcolor\":\"white\",\"landcolor\":\"#E5ECF6\",\"subunitcolor\":\"white\",\"showland\":true,\"showlakes\":true,\"lakecolor\":\"white\"},\"title\":{\"x\":0.05},\"mapbox\":{\"style\":\"light\"}}},\"xaxis\":{\"rangeslider\":{\"visible\":true}},\"title\":{\"text\":\"MCD Trend\"},\"yaxis\":{\"title\":{\"text\":\"Price\"}}},                        {\"responsive\": true}                    ).then(function(){\n",
       "                            \n",
       "var gd = document.getElementById('0a8070df-46dc-45ec-819a-e4523a008732');\n",
       "var x = new MutationObserver(function (mutations, observer) {{\n",
       "        var display = window.getComputedStyle(gd).display;\n",
       "        if (!display || display === 'none') {{\n",
       "            console.log([gd, 'removed!']);\n",
       "            Plotly.purge(gd);\n",
       "            observer.disconnect();\n",
       "        }}\n",
       "}});\n",
       "\n",
       "// Listen for the removal of the full notebook cells\n",
       "var notebookContainer = gd.closest('#notebook-container');\n",
       "if (notebookContainer) {{\n",
       "    x.observe(notebookContainer, {childList: true});\n",
       "}}\n",
       "\n",
       "// Listen for the clearing of the current output cell\n",
       "var outputEl = gd.closest('.output');\n",
       "if (outputEl) {{\n",
       "    x.observe(outputEl, {childList: true});\n",
       "}}\n",
       "\n",
       "                        })                };                });            </script>        </div>"
      ]
     },
     "metadata": {},
     "output_type": "display_data"
    }
   ],
   "source": [
    "filtered_df = df[df.index >= \"2024-08-04\"]\n",
    "\n",
    "\n",
    "fig = go.Figure(data=[\n",
    "    go.Candlestick(\n",
    "        x=filtered_df.index,\n",
    "        open=filtered_df[\"Open\"],\n",
    "        high=filtered_df[\"High\"],\n",
    "        low=filtered_df[\"Low\"],\n",
    "        close=filtered_df[\"Close\"],\n",
    "    )\n",
    "])\n",
    "\n",
    "\n",
    "fig.update_layout(\n",
    "    title=\"MCD Trend\",\n",
    "    yaxis_title=\"Price\",\n",
    "    xaxis_rangeslider_visible=True\n",
    ")\n",
    "\n",
    "\n",
    "fig.show()"
   ]
  },
  {
   "cell_type": "code",
   "execution_count": null,
   "id": "e12947c7-ff5d-4ff9-8bcf-87948076e8db",
   "metadata": {},
   "outputs": [],
   "source": []
  },
  {
   "cell_type": "code",
   "execution_count": null,
   "id": "7280c247-149f-467c-9630-5102da5ce0a5",
   "metadata": {},
   "outputs": [],
   "source": []
  },
  {
   "cell_type": "code",
   "execution_count": null,
   "id": "7fdd7bf1-8bbd-4934-a0bf-1c7a2dbb1be2",
   "metadata": {},
   "outputs": [],
   "source": []
  },
  {
   "cell_type": "code",
   "execution_count": null,
   "id": "c40be2f2-d4d4-49d6-84b4-750d35d117f9",
   "metadata": {},
   "outputs": [],
   "source": []
  }
 ],
 "metadata": {
  "kernelspec": {
   "display_name": "Python 3 (ipykernel)",
   "language": "python",
   "name": "python3"
  },
  "language_info": {
   "codemirror_mode": {
    "name": "ipython",
    "version": 3
   },
   "file_extension": ".py",
   "mimetype": "text/x-python",
   "name": "python",
   "nbconvert_exporter": "python",
   "pygments_lexer": "ipython3",
   "version": "3.11.6"
  }
 },
 "nbformat": 4,
 "nbformat_minor": 5
}
